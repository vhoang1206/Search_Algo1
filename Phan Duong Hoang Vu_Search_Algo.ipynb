{
 "cells": [
  {
   "attachments": {},
   "cell_type": "markdown",
   "metadata": {},
   "source": [
    "Phan Dương Hoàng Vũ"
   ]
  },
  {
   "attachments": {},
   "cell_type": "markdown",
   "metadata": {},
   "source": [
    "### BFS and DFS\n"
   ]
  },
  {
   "cell_type": "code",
   "execution_count": 7,
   "metadata": {},
   "outputs": [
    {
     "name": "stdout",
     "output_type": "stream",
     "text": [
      "BFS AND DFS: \n",
      "\n",
      "Following is Breadth First Traversal (starting from vertex 2)\n",
      "2 0 3 1 \n",
      "Following is Depth First Traversal (starting from vertex 2)\n",
      "2 3 0 1 "
     ]
    }
   ],
   "source": [
    "from collections import defaultdict\n",
    "\n",
    "class Graph:\n",
    "    def __init__(self):\n",
    "        # default dictionary to store graph\n",
    "        self.graph = defaultdict(list)\n",
    "        self.count_node = 0\n",
    "    # function to add an edge to graph\n",
    "\n",
    "    def addEdge(self, u, v):\n",
    "        self.graph[u].append(v)\n",
    "\n",
    "    # Function to print a BFS of graph\n",
    "    def BFS(self, node):\n",
    "        # Mark all the vertices as not visited\n",
    "        visited = []\n",
    "        # Create a queue for BFS\n",
    "        queue = []\n",
    "        # Mark the source node as visited and enqueue it\n",
    "        queue.append(node)\n",
    "        visited.append(node)\n",
    "        while queue:\n",
    "            # Dequeue a vertex from queue and print it\n",
    "            s = queue.pop(0)\n",
    "            print(s, end=\" \")\n",
    "            # Get All adjacent vertices of the dequeued vertex s. If a adjacent has not been visited, then mark it visited and enqueue it.\n",
    "            for neighbour in self.graph[s]:\n",
    "                if neighbour not in visited:\n",
    "                    queue.append(neighbour)\n",
    "                    visited.append(neighbour)\n",
    "\n",
    "    # Function to print a DFS of graph\n",
    "    def DFS(self, node):\n",
    "        # Mark all the vertices as not visited\n",
    "        visited = []\n",
    "        # Create a stack for DFS\n",
    "        stack = []\n",
    "        # Mark the source node and push it\n",
    "        stack.append(node)\n",
    "        visited.append(node)\n",
    "\n",
    "        while stack:\n",
    "            # Pop a vertex from stack and print it\n",
    "            s = stack.pop()\n",
    "            print(s, end=\" \")\n",
    "            # mark it visited and push it.\n",
    "            for neighbour in self.graph[s]:\n",
    "                if neighbour not in visited:\n",
    "                    visited.append(neighbour)\n",
    "                    stack.append(neighbour)\n",
    "\n",
    "\n",
    "g1 = Graph()\n",
    "g1.addEdge(0, 1)\n",
    "g1.addEdge(0, 2)\n",
    "g1.addEdge(1, 2)\n",
    "g1.addEdge(2, 0)\n",
    "g1.addEdge(2, 3)\n",
    "g1.addEdge(3, 3)\n",
    "\n",
    "# DFS and BFS\n",
    "print(\"BFS AND DFS: \\n\")\n",
    "print(\"Following is Breadth First Traversal (starting from vertex 2)\")\n",
    "g1.BFS(2)\n",
    "print(\"\\nFollowing is Depth First Traversal (starting from vertex 2)\")\n",
    "g1.DFS(2)\n"
   ]
  },
  {
   "attachments": {},
   "cell_type": "markdown",
   "metadata": {},
   "source": [
    "### DLS and IDDFS\n"
   ]
  },
  {
   "cell_type": "code",
   "execution_count": 10,
   "metadata": {},
   "outputs": [
    {
     "name": "stdout",
     "output_type": "stream",
     "text": [
      "\n",
      ">>>DLS: \n",
      "Solution is FOUND within max depth\n",
      "\n",
      ">>>IDDFS: \n",
      "Solution is FOUND\n"
     ]
    }
   ],
   "source": [
    "class Graph:\n",
    "    def __init__(self):\n",
    "        # default dictionary to store graph\n",
    "        self.graph = defaultdict(list)\n",
    "        self.count_node = 0\n",
    "    # function to add an edge to graph\n",
    "\n",
    "    def addEdge(self, u, v):\n",
    "        self.graph[u].append(v)\n",
    "\n",
    "    def DLS(self, source, target, maxDepth):\n",
    "        if source == target:\n",
    "            return True\n",
    "\n",
    "        if maxDepth <= 0:\n",
    "            return False\n",
    "\n",
    "        for i in self.graph[source]:\n",
    "            if(self.DLS(i, target, maxDepth-1)):\n",
    "                return True\n",
    "        return False\n",
    "\n",
    "    def IDDFS(self, source, target):\n",
    "        for i in range(10**5):\n",
    "            if self.DLS(source, target, i):\n",
    "                return True\n",
    "        return False\n",
    "\n",
    "\n",
    "g2 = Graph()\n",
    "g2.addEdge(0, 1)\n",
    "g2.addEdge(0, 2)\n",
    "g2.addEdge(1, 3)\n",
    "g2.addEdge(1, 4)\n",
    "g2.addEdge(2, 5)\n",
    "g2.addEdge(2, 6)\n",
    "\n",
    "# DLS and IDDFS\n",
    "source = 0\n",
    "target = 6\n",
    "maxDepth = 3\n",
    "print(\"\\n>>>DLS: \")\n",
    "if g2.DLS(source, target, maxDepth) == True:\n",
    "    print(\"Solution is FOUND within max depth\")\n",
    "else:\n",
    "    print(\"Solution is NOT FOUND within max depth\")\n",
    "print(\"\\n>>>IDDFS: \")\n",
    "if g2.IDDFS(source, target) == True:\n",
    "    print(\"Solution is FOUND\", end=\"\\n\")\n",
    "else:\n",
    "    print(\"Solution is NOT FOUND\", end=\"\\n\")\n"
   ]
  },
  {
   "attachments": {},
   "cell_type": "markdown",
   "metadata": {},
   "source": [
    "### UCS"
   ]
  },
  {
   "cell_type": "code",
   "execution_count": 11,
   "metadata": {},
   "outputs": [
    {
     "name": "stdout",
     "output_type": "stream",
     "text": [
      ">>>UCS: \n",
      "Shortest distance is 8\n",
      "And the path is ['a', 'b', 'd']\n"
     ]
    }
   ],
   "source": [
    "from collections import defaultdict\n",
    "\n",
    "def generateDirectedGraph(edges):\n",
    "    graph = defaultdict(dict)\n",
    "    for u, v, dist in edges:\n",
    "        graph[u][v] = dist\n",
    "    return graph\n",
    "\n",
    "def dijkstra(graph, source):\n",
    "    queue = [source]\n",
    "    minDistances = {v: float(\"inf\") for v in graph}\n",
    "    minDistances[source] = 0\n",
    "    predecessor = {}\n",
    "\n",
    "    while queue:\n",
    "        currentNode = queue.pop(0)\n",
    "        for neighbor in graph[currentNode]:\n",
    "            # get potential newDist from start to neighbor\n",
    "            newDist = minDistances[currentNode] + graph[currentNode][neighbor]\n",
    "            \n",
    "            # if the newDist is shorter to reach neighbor updated to newDist\n",
    "            if newDist < minDistances[neighbor]:\n",
    "                minDistances[neighbor] = min(newDist, minDistances[neighbor])\n",
    "                queue.append(neighbor)\n",
    "                predecessor[neighbor] = currentNode\n",
    "\n",
    "    return minDistances, predecessor\n",
    "\n",
    "def UCS(graph, source, dest):\n",
    "    minDistances, predecessor = dijkstra(graph, source)\n",
    "    \n",
    "    path = []\n",
    "    currentNode = dest\n",
    "    while currentNode != source:\n",
    "        if currentNode not in predecessor:\n",
    "            print(\"Path not reachable\")\n",
    "            break\n",
    "        else:\n",
    "            path.insert(0, currentNode)\n",
    "            currentNode = predecessor[currentNode]\n",
    "    path.insert(0, source)\n",
    "    \n",
    "    if dest in minDistances and minDistances[dest] != float(\"inf\"):\n",
    "        print('Shortest distance is ' + str(minDistances[dest]))\n",
    "        print('And the path is ' + str(path))\n",
    "\n",
    "\n",
    "weighted_edges = [['a', 'b', 6], ['a', 'c', 3], ['b', 'c', 1], ['c', 'b', 4], ['b', 'd', 2], ['c', 'd', 8], ['c', 'e', 2], ['d', 'e', 9], ['e', 'd', 7]]\n",
    "directed_weighted_graph = generateDirectedGraph(weighted_edges)\n",
    "\n",
    "# UCS \n",
    "print(\">>>UCS: \")\n",
    "UCS(directed_weighted_graph, 'a', 'd')\n",
    "\n"
   ]
  }
 ],
 "metadata": {
  "kernelspec": {
   "display_name": "Python 3",
   "language": "python",
   "name": "python3"
  },
  "language_info": {
   "codemirror_mode": {
    "name": "ipython",
    "version": 3
   },
   "file_extension": ".py",
   "mimetype": "text/x-python",
   "name": "python",
   "nbconvert_exporter": "python",
   "pygments_lexer": "ipython3",
   "version": "3.9.10"
  },
  "orig_nbformat": 4,
  "vscode": {
   "interpreter": {
    "hash": "aee8b7b246df8f9039afb4144a1f6fd8d2ca17a180786b69acc140d282b71a49"
   }
  }
 },
 "nbformat": 4,
 "nbformat_minor": 2
}
